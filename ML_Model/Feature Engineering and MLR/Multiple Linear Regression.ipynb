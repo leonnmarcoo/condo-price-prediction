{
 "cells": [
  {
   "cell_type": "markdown",
   "id": "5d3dc62d",
   "metadata": {},
   "source": [
    "# Multiple Linear Regression for Condo Price Prediction"
   ]
  },
  {
   "cell_type": "markdown",
   "id": "61db1a5c",
   "metadata": {},
   "source": [
    "## 1. Import Required Libraries\n",
    "Import pandas, numpy, scikit-learn, and matplotlib for data manipulation, modeling, and visualization."
   ]
  },
  {
   "cell_type": "code",
   "execution_count": 17,
   "id": "8d13e28c",
   "metadata": {},
   "outputs": [],
   "source": [
    "# Import Required Libraries\n",
    "import pandas as pd\n",
    "import numpy as np\n",
    "from sklearn.model_selection import train_test_split\n",
    "from sklearn.linear_model import LinearRegression\n",
    "from sklearn.metrics import r2_score\n",
    "import matplotlib.pyplot as plt"
   ]
  },
  {
   "cell_type": "markdown",
   "id": "571921bc",
   "metadata": {},
   "source": [
    "## 2. Load and Inspect CleanData_Final CSV\n",
    "Load the CleanData_Final - Condo_CleanFinal.csv file and display the first few rows to inspect the data."
   ]
  },
  {
   "cell_type": "code",
   "execution_count": null,
   "id": "31ffd544",
   "metadata": {},
   "outputs": [
    {
     "data": {
      "text/html": [
       "<div>\n",
       "<style scoped>\n",
       "    .dataframe tbody tr th:only-of-type {\n",
       "        vertical-align: middle;\n",
       "    }\n",
       "\n",
       "    .dataframe tbody tr th {\n",
       "        vertical-align: top;\n",
       "    }\n",
       "\n",
       "    .dataframe thead th {\n",
       "        text-align: right;\n",
       "    }\n",
       "</style>\n",
       "<table border=\"1\" class=\"dataframe\">\n",
       "  <thead>\n",
       "    <tr style=\"text-align: right;\">\n",
       "      <th></th>\n",
       "      <th>Price</th>\n",
       "      <th>Square Area</th>\n",
       "      <th>Bedrooms</th>\n",
       "      <th>Bathrooms</th>\n",
       "      <th>Furnishing</th>\n",
       "      <th>school</th>\n",
       "      <th>hospital</th>\n",
       "      <th>shopping_mall</th>\n",
       "      <th>supermarket</th>\n",
       "      <th>church</th>\n",
       "      <th>...</th>\n",
       "      <th>Neighborhood_Santa Mesa Heights</th>\n",
       "      <th>Neighborhood_Santolan</th>\n",
       "      <th>Neighborhood_Timog and South Triangle</th>\n",
       "      <th>occupancy</th>\n",
       "      <th>Fully Furnished</th>\n",
       "      <th>Semi Furnished</th>\n",
       "      <th>Unfurnished</th>\n",
       "      <th>price_per_sqm</th>\n",
       "      <th>price_per_sqm_x_bedrooms</th>\n",
       "      <th>price_per_sqm_x_bathrooms</th>\n",
       "    </tr>\n",
       "  </thead>\n",
       "  <tbody>\n",
       "    <tr>\n",
       "      <th>0</th>\n",
       "      <td>12000</td>\n",
       "      <td>25.0</td>\n",
       "      <td>0</td>\n",
       "      <td>1</td>\n",
       "      <td>Semi Furnished</td>\n",
       "      <td>1</td>\n",
       "      <td>1</td>\n",
       "      <td>1</td>\n",
       "      <td>1</td>\n",
       "      <td>1</td>\n",
       "      <td>...</td>\n",
       "      <td>0</td>\n",
       "      <td>0</td>\n",
       "      <td>0</td>\n",
       "      <td>0</td>\n",
       "      <td>0</td>\n",
       "      <td>1</td>\n",
       "      <td>0</td>\n",
       "      <td>480.000000</td>\n",
       "      <td>0.000000</td>\n",
       "      <td>480.000000</td>\n",
       "    </tr>\n",
       "    <tr>\n",
       "      <th>1</th>\n",
       "      <td>58000</td>\n",
       "      <td>61.0</td>\n",
       "      <td>1</td>\n",
       "      <td>1</td>\n",
       "      <td>Fully Furnished</td>\n",
       "      <td>1</td>\n",
       "      <td>1</td>\n",
       "      <td>1</td>\n",
       "      <td>1</td>\n",
       "      <td>1</td>\n",
       "      <td>...</td>\n",
       "      <td>0</td>\n",
       "      <td>0</td>\n",
       "      <td>0</td>\n",
       "      <td>0</td>\n",
       "      <td>1</td>\n",
       "      <td>0</td>\n",
       "      <td>0</td>\n",
       "      <td>950.819672</td>\n",
       "      <td>950.819672</td>\n",
       "      <td>950.819672</td>\n",
       "    </tr>\n",
       "    <tr>\n",
       "      <th>2</th>\n",
       "      <td>14000</td>\n",
       "      <td>25.0</td>\n",
       "      <td>1</td>\n",
       "      <td>1</td>\n",
       "      <td>Fully Furnished</td>\n",
       "      <td>1</td>\n",
       "      <td>1</td>\n",
       "      <td>1</td>\n",
       "      <td>1</td>\n",
       "      <td>1</td>\n",
       "      <td>...</td>\n",
       "      <td>0</td>\n",
       "      <td>0</td>\n",
       "      <td>0</td>\n",
       "      <td>1</td>\n",
       "      <td>1</td>\n",
       "      <td>0</td>\n",
       "      <td>0</td>\n",
       "      <td>560.000000</td>\n",
       "      <td>560.000000</td>\n",
       "      <td>560.000000</td>\n",
       "    </tr>\n",
       "    <tr>\n",
       "      <th>3</th>\n",
       "      <td>22000</td>\n",
       "      <td>28.0</td>\n",
       "      <td>0</td>\n",
       "      <td>1</td>\n",
       "      <td>Fully Furnished</td>\n",
       "      <td>1</td>\n",
       "      <td>1</td>\n",
       "      <td>1</td>\n",
       "      <td>1</td>\n",
       "      <td>1</td>\n",
       "      <td>...</td>\n",
       "      <td>0</td>\n",
       "      <td>0</td>\n",
       "      <td>0</td>\n",
       "      <td>0</td>\n",
       "      <td>1</td>\n",
       "      <td>0</td>\n",
       "      <td>0</td>\n",
       "      <td>785.714286</td>\n",
       "      <td>0.000000</td>\n",
       "      <td>785.714286</td>\n",
       "    </tr>\n",
       "    <tr>\n",
       "      <th>4</th>\n",
       "      <td>18000</td>\n",
       "      <td>30.0</td>\n",
       "      <td>2</td>\n",
       "      <td>1</td>\n",
       "      <td>Unfurnished</td>\n",
       "      <td>1</td>\n",
       "      <td>1</td>\n",
       "      <td>1</td>\n",
       "      <td>1</td>\n",
       "      <td>1</td>\n",
       "      <td>...</td>\n",
       "      <td>0</td>\n",
       "      <td>0</td>\n",
       "      <td>0</td>\n",
       "      <td>0</td>\n",
       "      <td>0</td>\n",
       "      <td>0</td>\n",
       "      <td>1</td>\n",
       "      <td>600.000000</td>\n",
       "      <td>1200.000000</td>\n",
       "      <td>600.000000</td>\n",
       "    </tr>\n",
       "  </tbody>\n",
       "</table>\n",
       "<p>5 rows × 56 columns</p>\n",
       "</div>"
      ],
      "text/plain": [
       "   Price  Square Area  Bedrooms  Bathrooms       Furnishing  school  hospital  \\\n",
       "0  12000         25.0         0          1   Semi Furnished       1         1   \n",
       "1  58000         61.0         1          1  Fully Furnished       1         1   \n",
       "2  14000         25.0         1          1  Fully Furnished       1         1   \n",
       "3  22000         28.0         0          1  Fully Furnished       1         1   \n",
       "4  18000         30.0         2          1      Unfurnished       1         1   \n",
       "\n",
       "   shopping_mall  supermarket  church  ...  Neighborhood_Santa Mesa Heights  \\\n",
       "0              1            1       1  ...                                0   \n",
       "1              1            1       1  ...                                0   \n",
       "2              1            1       1  ...                                0   \n",
       "3              1            1       1  ...                                0   \n",
       "4              1            1       1  ...                                0   \n",
       "\n",
       "   Neighborhood_Santolan  Neighborhood_Timog and South Triangle  occupancy  \\\n",
       "0                      0                                      0          0   \n",
       "1                      0                                      0          0   \n",
       "2                      0                                      0          1   \n",
       "3                      0                                      0          0   \n",
       "4                      0                                      0          0   \n",
       "\n",
       "   Fully Furnished  Semi Furnished  Unfurnished  price_per_sqm  \\\n",
       "0                0               1            0     480.000000   \n",
       "1                1               0            0     950.819672   \n",
       "2                1               0            0     560.000000   \n",
       "3                1               0            0     785.714286   \n",
       "4                0               0            1     600.000000   \n",
       "\n",
       "   price_per_sqm_x_bedrooms  price_per_sqm_x_bathrooms  \n",
       "0                  0.000000                 480.000000  \n",
       "1                950.819672                 950.819672  \n",
       "2                560.000000                 560.000000  \n",
       "3                  0.000000                 785.714286  \n",
       "4               1200.000000                 600.000000  \n",
       "\n",
       "[5 rows x 56 columns]"
      ]
     },
     "execution_count": 18,
     "metadata": {},
     "output_type": "execute_result"
    }
   ],
   "source": [
    "# Load the CSV file\n",
    "data = pd.read_csv('Data_Cleaned.csv')\n",
    "data.head()"
   ]
  },
  {
   "cell_type": "markdown",
   "id": "bbe6cd61",
   "metadata": {},
   "source": [
    "## 3. Preprocess Data (Handle Missing Values)\n",
    "Check for missing values and encode categorical variables as needed."
   ]
  },
  {
   "cell_type": "code",
   "execution_count": 19,
   "id": "de9a3d04",
   "metadata": {},
   "outputs": [
    {
     "name": "stdout",
     "output_type": "stream",
     "text": [
      "<class 'pandas.core.frame.DataFrame'>\n",
      "RangeIndex: 2419 entries, 0 to 2418\n",
      "Data columns (total 56 columns):\n",
      " #   Column                                 Non-Null Count  Dtype  \n",
      "---  ------                                 --------------  -----  \n",
      " 0   Price                                  2419 non-null   int64  \n",
      " 1   Square Area                            2419 non-null   float64\n",
      " 2   Bedrooms                               2419 non-null   int64  \n",
      " 3   Bathrooms                              2419 non-null   int64  \n",
      " 4   Furnishing                             2419 non-null   object \n",
      " 5   school                                 2419 non-null   int64  \n",
      " 6   hospital                               2419 non-null   int64  \n",
      " 7   shopping_mall                          2419 non-null   int64  \n",
      " 8   supermarket                            2419 non-null   int64  \n",
      " 9   church                                 2419 non-null   int64  \n",
      " 10  park                                   2419 non-null   int64  \n",
      " 11  gym                                    2419 non-null   int64  \n",
      " 12  restaurant                             2419 non-null   int64  \n",
      " 13  bank                                   2419 non-null   int64  \n",
      " 14  pharmacy                               2419 non-null   int64  \n",
      " 15  police                                 2419 non-null   int64  \n",
      " 16  subway_station                         2419 non-null   int64  \n",
      " 17  train_station                          2419 non-null   int64  \n",
      " 18  university                             2419 non-null   int64  \n",
      " 19  transit_station                        2419 non-null   int64  \n",
      " 20  bus_station                            2419 non-null   int64  \n",
      " 21  24/7 Security                          2419 non-null   int64  \n",
      " 22  Balcony                                2419 non-null   int64  \n",
      " 23  Concierge                              2419 non-null   int64  \n",
      " 24  Function Rooms                         2419 non-null   int64  \n",
      " 25  Gym                                    2419 non-null   int64  \n",
      " 26  Jogging Trail                          2419 non-null   int64  \n",
      " 27  Multi-Purpose Hall                     2419 non-null   int64  \n",
      " 28  Parking                                2419 non-null   int64  \n",
      " 29  Pets Allowed                           2419 non-null   int64  \n",
      " 30  Play Room                              2419 non-null   int64  \n",
      " 31  Storage Space                          2419 non-null   int64  \n",
      " 32  Study Hall                             2419 non-null   int64  \n",
      " 33  Swimming pool                          2419 non-null   int64  \n",
      " 34  Neighborhood_Araneta Center Cubao      2419 non-null   int64  \n",
      " 35  Neighborhood_Circuit Makati            2419 non-null   int64  \n",
      " 36  Neighborhood_Commonwealth Area         2419 non-null   int64  \n",
      " 37  Neighborhood_Diliman                   2419 non-null   int64  \n",
      " 38  Neighborhood_Eastwood City             2419 non-null   int64  \n",
      " 39  Neighborhood_Fairview                  2419 non-null   int64  \n",
      " 40  Neighborhood_Libis                     2419 non-null   int64  \n",
      " 41  Neighborhood_Loyola Heights            2419 non-null   int64  \n",
      " 42  Neighborhood_New Manila                2419 non-null   int64  \n",
      " 43  Neighborhood_North Avenue Area         2419 non-null   int64  \n",
      " 44  Neighborhood_Novaliches                2419 non-null   int64  \n",
      " 45  Neighborhood_Santa Mesa                2419 non-null   int64  \n",
      " 46  Neighborhood_Santa Mesa Heights        2419 non-null   int64  \n",
      " 47  Neighborhood_Santolan                  2419 non-null   int64  \n",
      " 48  Neighborhood_Timog and South Triangle  2419 non-null   int64  \n",
      " 49  occupancy                              2419 non-null   int64  \n",
      " 50  Fully Furnished                        2419 non-null   int64  \n",
      " 51  Semi Furnished                         2419 non-null   int64  \n",
      " 52  Unfurnished                            2419 non-null   int64  \n",
      " 53  price_per_sqm                          2419 non-null   float64\n",
      " 54  price_per_sqm_x_bedrooms               2419 non-null   float64\n",
      " 55  price_per_sqm_x_bathrooms              2419 non-null   float64\n",
      "dtypes: float64(4), int64(51), object(1)\n",
      "memory usage: 1.0+ MB\n"
     ]
    }
   ],
   "source": [
    "# Check for missing values\n",
    "data.info()\n",
    "data.isnull().sum()\n",
    "\n",
    "# Drop Furnishing column since it was already one hot encoded\n",
    "data = data.drop(columns=['Furnishing'])"
   ]
  },
  {
   "cell_type": "markdown",
   "id": "bedd577b",
   "metadata": {},
   "source": [
    "## 4. Select Features and Target Variable\n",
    "Identify and select relevant features for predicting Condo Price. Set Condo Price as the target variable."
   ]
  },
  {
   "cell_type": "code",
   "execution_count": 20,
   "id": "17c326ce",
   "metadata": {},
   "outputs": [
    {
     "data": {
      "text/plain": [
       "(   Square Area  Bedrooms  Bathrooms  school  hospital  shopping_mall  \\\n",
       " 0         25.0         0          1       1         1              1   \n",
       " 1         61.0         1          1       1         1              1   \n",
       " 2         25.0         1          1       1         1              1   \n",
       " 3         28.0         0          1       1         1              1   \n",
       " 4         30.0         2          1       1         1              1   \n",
       " \n",
       "    supermarket  church  park  gym  ...  Neighborhood_Santa Mesa Heights  \\\n",
       " 0            1       1     1    1  ...                                0   \n",
       " 1            1       1     1    1  ...                                0   \n",
       " 2            1       1     1    1  ...                                0   \n",
       " 3            1       1     1    1  ...                                0   \n",
       " 4            1       1     1    1  ...                                0   \n",
       " \n",
       "    Neighborhood_Santolan  Neighborhood_Timog and South Triangle  occupancy  \\\n",
       " 0                      0                                      0          0   \n",
       " 1                      0                                      0          0   \n",
       " 2                      0                                      0          1   \n",
       " 3                      0                                      0          0   \n",
       " 4                      0                                      0          0   \n",
       " \n",
       "    Fully Furnished  Semi Furnished  Unfurnished  price_per_sqm  \\\n",
       " 0                0               1            0     480.000000   \n",
       " 1                1               0            0     950.819672   \n",
       " 2                1               0            0     560.000000   \n",
       " 3                1               0            0     785.714286   \n",
       " 4                0               0            1     600.000000   \n",
       " \n",
       "    price_per_sqm_x_bedrooms  price_per_sqm_x_bathrooms  \n",
       " 0                  0.000000                 480.000000  \n",
       " 1                950.819672                 950.819672  \n",
       " 2                560.000000                 560.000000  \n",
       " 3                  0.000000                 785.714286  \n",
       " 4               1200.000000                 600.000000  \n",
       " \n",
       " [5 rows x 54 columns],\n",
       " 0    12000\n",
       " 1    58000\n",
       " 2    14000\n",
       " 3    22000\n",
       " 4    18000\n",
       " Name: Price, dtype: int64)"
      ]
     },
     "execution_count": 20,
     "metadata": {},
     "output_type": "execute_result"
    }
   ],
   "source": [
    "# Set target and features\n",
    "# Replace 'Condo Price' with the actual column name if different\n",
    "target = 'Price'\n",
    "X = data.drop(target, axis=1)\n",
    "y = data[target]\n",
    "\n",
    "X.head(), y.head()"
   ]
  },
  {
   "cell_type": "markdown",
   "id": "eea9ef1c",
   "metadata": {},
   "source": [
    "## 5. Split Data into Training and Test Sets\n",
    "Use train_test_split from scikit-learn to split the data into training and test sets."
   ]
  },
  {
   "cell_type": "code",
   "execution_count": 21,
   "id": "56b251e0",
   "metadata": {},
   "outputs": [
    {
     "name": "stdout",
     "output_type": "stream",
     "text": [
      "Training set: (1935, 54) (1935,)\n",
      "Test set: (484, 54) (484,)\n"
     ]
    }
   ],
   "source": [
    "# Split data into training and test sets\n",
    "X_train, X_test, y_train, y_test = train_test_split(X, y, test_size=0.2, random_state=42)\n",
    "print('Training set:', X_train.shape, y_train.shape)\n",
    "print('Test set:', X_test.shape, y_test.shape)"
   ]
  },
  {
   "cell_type": "markdown",
   "id": "cae4d445",
   "metadata": {},
   "source": [
    "## 6. Train Multiple Linear Regression Model\n",
    "Fit a Multiple Linear Regression model using the training data."
   ]
  },
  {
   "cell_type": "code",
   "execution_count": 22,
   "id": "5360d993",
   "metadata": {},
   "outputs": [],
   "source": [
    "# Train Multiple Linear Regression model\n",
    "model = LinearRegression()\n",
    "model.fit(X_train, y_train)\n",
    "\n",
    "# Predict on test set\n",
    "y_pred = model.predict(X_test)"
   ]
  },
  {
   "cell_type": "markdown",
   "id": "203f42d6",
   "metadata": {},
   "source": [
    "## 7. Evaluate Model Performance \n"
   ]
  },
  {
   "cell_type": "code",
   "execution_count": 23,
   "id": "d8a92821",
   "metadata": {},
   "outputs": [
    {
     "name": "stdout",
     "output_type": "stream",
     "text": [
      "R² Score: 90.30%\n",
      "Goal achieved!\n"
     ]
    }
   ],
   "source": [
    "# Evaluate model performance\n",
    "r2 = r2_score(y_test, y_pred)\n",
    "print(f'R² Score: {r2:.2%}')\n",
    "if r2 >= 0.90:\n",
    "    print('Goal achieved!')\n",
    "else:\n",
    "    print('Goal not achieved.')"
   ]
  },
  {
   "cell_type": "markdown",
   "id": "f031777f",
   "metadata": {},
   "source": [
    "## 8. Visualize Predictions vs Actual Condo Prices\n",
    "Plot predicted vs actual Condo Prices to visually assess model performance."
   ]
  },
  {
   "cell_type": "code",
   "execution_count": 24,
   "id": "afd5d43d",
   "metadata": {},
   "outputs": [
    {
     "data": {
      "image/png": "[encoded data removed]",
      "text/plain": [
       "<Figure size 800x600 with 1 Axes>"
      ]
     },
     "metadata": {},
     "output_type": "display_data"
    }
   ],
   "source": [
    "# Visualize predictions vs actual values\n",
    "plt.figure(figsize=(8,6))\n",
    "plt.scatter(y_test, y_pred, alpha=0.7)\n",
    "plt.xlabel('Actual Condo Price')\n",
    "plt.ylabel('Predicted Condo Price')\n",
    "plt.title('Predicted vs Actual Condo Price')\n",
    "plt.plot([y_test.min(), y_test.max()], [y_test.min(), y_test.max()], 'r--')\n",
    "plt.show()"
   ]
  },
  {
   "cell_type": "markdown",
   "id": "c34e46f8",
   "metadata": {},
   "source": [
    "## Regression Visualizations\n",
    "The following plots help evaluate the performance of your multiple linear regression model:"
   ]
  },
  {
   "cell_type": "code",
   "execution_count": null,
   "id": "eab30436",
   "metadata": {},
   "outputs": [],
   "source": [
    "# Predicted vs Actual values scatter plot\n",
    "import matplotlib.pyplot as plt\n",
    "import seaborn as sns\n",
    "\n",
    "# Replace these with your actual variable names\n",
    "y_true = y_test  # Actual values\n",
    "y_pred = model.predict(X_test)  # Predicted values\n",
    "\n",
    "plt.figure(figsize=(8,6))\n",
    "sns.scatterplot(x=y_true, y=y_pred)\n",
    "plt.xlabel('Actual Values')\n",
    "plt.ylabel('Predicted Values')\n",
    "plt.title('Predicted vs Actual Values')\n",
    "plt.plot([y_true.min(), y_true.max()], [y_true.min(), y_true.max()], 'r--')\n",
    "plt.show()"
   ]
  },
  {
   "cell_type": "code",
   "execution_count": null,
   "id": "94133e80",
   "metadata": {},
   "outputs": [],
   "source": [
    "# Residuals plot (Residuals vs Predicted values)\n",
    "residuals = y_true - y_pred\n",
    "plt.figure(figsize=(8,6))\n",
    "sns.scatterplot(x=y_pred, y=residuals)\n",
    "plt.axhline(0, color='r', linestyle='--')\n",
    "plt.xlabel('Predicted Values')\n",
    "plt.ylabel('Residuals')\n",
    "plt.title('Residuals vs Predicted Values')\n",
    "plt.show()"
   ]
  },
  {
   "cell_type": "code",
   "execution_count": null,
   "id": "ed56a147",
   "metadata": {},
   "outputs": [],
   "source": [
    "# Histogram of residuals\n",
    "plt.figure(figsize=(8,6))\n",
    "sns.histplot(residuals, bins=30, kde=True)\n",
    "plt.xlabel('Residuals')\n",
    "plt.title('Distribution of Residuals')\n",
    "plt.show()"
   ]
  }
 ],
 "metadata": {
  "kernelspec": {
   "display_name": "scraper-env",
   "language": "python",
   "name": "python3"
  },
  "language_info": {
   "codemirror_mode": {
    "name": "ipython",
    "version": 3
   },
   "file_extension": ".py",
   "mimetype": "text/x-python",
   "name": "python",
   "nbconvert_exporter": "python",
   "pygments_lexer": "ipython3",
   "version": "3.13.5"
  }
 },
 "nbformat": 4,
 "nbformat_minor": 5
}
