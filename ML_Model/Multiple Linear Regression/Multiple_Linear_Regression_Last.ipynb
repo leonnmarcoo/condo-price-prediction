{
  "cells": [
    {
      "cell_type": "markdown",
      "id": "5d3dc62d",
      "metadata": {
        "id": "5d3dc62d"
      },
      "source": [
        "# Multiple Linear Regression for Condo Price Prediction"
      ]
    },
    {
      "cell_type": "markdown",
      "id": "61db1a5c",
      "metadata": {
        "id": "61db1a5c"
      },
      "source": [
        "## 1. Import Required Libraries\n",
        "Import pandas, numpy, scikit-learn, and matplotlib for data manipulation, modeling, and visualization."
      ]
    },
    {
      "cell_type": "code",
      "execution_count": 40,
      "id": "8d13e28c",
      "metadata": {
        "id": "8d13e28c"
      },
      "outputs": [],
      "source": [
        "# Import Required Libraries\n",
        "import pandas as pd\n",
        "import numpy as np\n",
        "from sklearn.model_selection import train_test_split\n",
        "from sklearn.linear_model import LinearRegression\n",
        "from sklearn.metrics import r2_score, mean_absolute_error, mean_squared_error\n",
        "import matplotlib.pyplot as plt\n",
        "import seaborn as sns\n"
      ]
    },
    {
      "cell_type": "markdown",
      "id": "571921bc",
      "metadata": {
        "id": "571921bc"
      },
      "source": [
        "## 2. Load and Inspect CleanData_Final CSV\n",
        "Load the CleanData_Final - Condo_CleanFinal.csv file and display the first few rows to inspect the data."
      ]
    },
    {
      "cell_type": "code",
      "execution_count": 41,
      "id": "31ffd544",
      "metadata": {
        "colab": {
          "base_uri": "https://localhost:8080/",
          "height": 243
        },
        "id": "31ffd544",
        "outputId": "4b00347c-1ed1-4c88-fa85-e1fdb556dff4"
      },
      "outputs": [
        {
          "output_type": "execute_result",
          "data": {
            "text/plain": [
              "   Price  Square Area  Bedrooms  Bathrooms  24/7 Security  Balcony  Parking  \\\n",
              "0  12000         25.0         0          1              1        0        0   \n",
              "1  58000         61.0         1          1              0        0        0   \n",
              "2  14000         25.0         1          1              1        0        0   \n",
              "3  22000         28.0         0          1              1        0        0   \n",
              "4  18000         30.0         2          1              1        0        0   \n",
              "\n",
              "   Pets Allowed  Storage Space  Swimming pool  price_per_sqm  \\\n",
              "0             0              0              1     480.000000   \n",
              "1             0              0              0     950.819672   \n",
              "2             0              0              1     560.000000   \n",
              "3             0              0              1     785.714286   \n",
              "4             0              0              1     600.000000   \n",
              "\n",
              "   price_per_sqm_x_bedrooms  price_per_sqm_x_bathrooms  \n",
              "0                  0.000000                 480.000000  \n",
              "1                950.819672                 950.819672  \n",
              "2                560.000000                 560.000000  \n",
              "3                  0.000000                 785.714286  \n",
              "4               1200.000000                 600.000000  "
            ],
            "text/html": [
              "\n",
              "  <div id=\"df-08b79b12-5bc3-4216-8da8-a6696f27b31d\" class=\"colab-df-container\">\n",
              "    <div>\n",
              "<style scoped>\n",
              "    .dataframe tbody tr th:only-of-type {\n",
              "        vertical-align: middle;\n",
              "    }\n",
              "\n",
              "    .dataframe tbody tr th {\n",
              "        vertical-align: top;\n",
              "    }\n",
              "\n",
              "    .dataframe thead th {\n",
              "        text-align: right;\n",
              "    }\n",
              "</style>\n",
              "<table border=\"1\" class=\"dataframe\">\n",
              "  <thead>\n",
              "    <tr style=\"text-align: right;\">\n",
              "      <th></th>\n",
              "      <th>Price</th>\n",
              "      <th>Square Area</th>\n",
              "      <th>Bedrooms</th>\n",
              "      <th>Bathrooms</th>\n",
              "      <th>24/7 Security</th>\n",
              "      <th>Balcony</th>\n",
              "      <th>Parking</th>\n",
              "      <th>Pets Allowed</th>\n",
              "      <th>Storage Space</th>\n",
              "      <th>Swimming pool</th>\n",
              "      <th>price_per_sqm</th>\n",
              "      <th>price_per_sqm_x_bedrooms</th>\n",
              "      <th>price_per_sqm_x_bathrooms</th>\n",
              "    </tr>\n",
              "  </thead>\n",
              "  <tbody>\n",
              "    <tr>\n",
              "      <th>0</th>\n",
              "      <td>12000</td>\n",
              "      <td>25.0</td>\n",
              "      <td>0</td>\n",
              "      <td>1</td>\n",
              "      <td>1</td>\n",
              "      <td>0</td>\n",
              "      <td>0</td>\n",
              "      <td>0</td>\n",
              "      <td>0</td>\n",
              "      <td>1</td>\n",
              "      <td>480.000000</td>\n",
              "      <td>0.000000</td>\n",
              "      <td>480.000000</td>\n",
              "    </tr>\n",
              "    <tr>\n",
              "      <th>1</th>\n",
              "      <td>58000</td>\n",
              "      <td>61.0</td>\n",
              "      <td>1</td>\n",
              "      <td>1</td>\n",
              "      <td>0</td>\n",
              "      <td>0</td>\n",
              "      <td>0</td>\n",
              "      <td>0</td>\n",
              "      <td>0</td>\n",
              "      <td>0</td>\n",
              "      <td>950.819672</td>\n",
              "      <td>950.819672</td>\n",
              "      <td>950.819672</td>\n",
              "    </tr>\n",
              "    <tr>\n",
              "      <th>2</th>\n",
              "      <td>14000</td>\n",
              "      <td>25.0</td>\n",
              "      <td>1</td>\n",
              "      <td>1</td>\n",
              "      <td>1</td>\n",
              "      <td>0</td>\n",
              "      <td>0</td>\n",
              "      <td>0</td>\n",
              "      <td>0</td>\n",
              "      <td>1</td>\n",
              "      <td>560.000000</td>\n",
              "      <td>560.000000</td>\n",
              "      <td>560.000000</td>\n",
              "    </tr>\n",
              "    <tr>\n",
              "      <th>3</th>\n",
              "      <td>22000</td>\n",
              "      <td>28.0</td>\n",
              "      <td>0</td>\n",
              "      <td>1</td>\n",
              "      <td>1</td>\n",
              "      <td>0</td>\n",
              "      <td>0</td>\n",
              "      <td>0</td>\n",
              "      <td>0</td>\n",
              "      <td>1</td>\n",
              "      <td>785.714286</td>\n",
              "      <td>0.000000</td>\n",
              "      <td>785.714286</td>\n",
              "    </tr>\n",
              "    <tr>\n",
              "      <th>4</th>\n",
              "      <td>18000</td>\n",
              "      <td>30.0</td>\n",
              "      <td>2</td>\n",
              "      <td>1</td>\n",
              "      <td>1</td>\n",
              "      <td>0</td>\n",
              "      <td>0</td>\n",
              "      <td>0</td>\n",
              "      <td>0</td>\n",
              "      <td>1</td>\n",
              "      <td>600.000000</td>\n",
              "      <td>1200.000000</td>\n",
              "      <td>600.000000</td>\n",
              "    </tr>\n",
              "  </tbody>\n",
              "</table>\n",
              "</div>\n",
              "    <div class=\"colab-df-buttons\">\n",
              "\n",
              "  <div class=\"colab-df-container\">\n",
              "    <button class=\"colab-df-convert\" onclick=\"convertToInteractive('df-08b79b12-5bc3-4216-8da8-a6696f27b31d')\"\n",
              "            title=\"Convert this dataframe to an interactive table.\"\n",
              "            style=\"display:none;\">\n",
              "\n",
              "  <svg xmlns=\"http://www.w3.org/2000/svg\" height=\"24px\" viewBox=\"0 -960 960 960\">\n",
              "    <path d=\"M120-120v-720h720v720H120Zm60-500h600v-160H180v160Zm220 220h160v-160H400v160Zm0 220h160v-160H400v160ZM180-400h160v-160H180v160Zm440 0h160v-160H620v160ZM180-180h160v-160H180v160Zm440 0h160v-160H620v160Z\"/>\n",
              "  </svg>\n",
              "    </button>\n",
              "\n",
              "  <style>\n",
              "    .colab-df-container {\n",
              "      display:flex;\n",
              "      gap: 12px;\n",
              "    }\n",
              "\n",
              "    .colab-df-convert {\n",
              "      background-color: #E8F0FE;\n",
              "      border: none;\n",
              "      border-radius: 50%;\n",
              "      cursor: pointer;\n",
              "      display: none;\n",
              "      fill: #1967D2;\n",
              "      height: 32px;\n",
              "      padding: 0 0 0 0;\n",
              "      width: 32px;\n",
              "    }\n",
              "\n",
              "    .colab-df-convert:hover {\n",
              "      background-color: #E2EBFA;\n",
              "      box-shadow: 0px 1px 2px rgba(60, 64, 67, 0.3), 0px 1px 3px 1px rgba(60, 64, 67, 0.15);\n",
              "      fill: #174EA6;\n",
              "    }\n",
              "\n",
              "    .colab-df-buttons div {\n",
              "      margin-bottom: 4px;\n",
              "    }\n",
              "\n",
              "    [theme=dark] .colab-df-convert {\n",
              "      background-color: #3B4455;\n",
              "      fill: #D2E3FC;\n",
              "    }\n",
              "\n",
              "    [theme=dark] .colab-df-convert:hover {\n",
              "      background-color: #434B5C;\n",
              "      box-shadow: 0px 1px 3px 1px rgba(0, 0, 0, 0.15);\n",
              "      filter: drop-shadow(0px 1px 2px rgba(0, 0, 0, 0.3));\n",
              "      fill: #FFFFFF;\n",
              "    }\n",
              "  </style>\n",
              "\n",
              "    <script>\n",
              "      const buttonEl =\n",
              "        document.querySelector('#df-08b79b12-5bc3-4216-8da8-a6696f27b31d button.colab-df-convert');\n",
              "      buttonEl.style.display =\n",
              "        google.colab.kernel.accessAllowed ? 'block' : 'none';\n",
              "\n",
              "      async function convertToInteractive(key) {\n",
              "        const element = document.querySelector('#df-08b79b12-5bc3-4216-8da8-a6696f27b31d');\n",
              "        const dataTable =\n",
              "          await google.colab.kernel.invokeFunction('convertToInteractive',\n",
              "                                                    [key], {});\n",
              "        if (!dataTable) return;\n",
              "\n",
              "        const docLinkHtml = 'Like what you see? Visit the ' +\n",
              "          '<a target=\"_blank\" href=https://colab.research.google.com/notebooks/data_table.ipynb>data table notebook</a>'\n",
              "          + ' to learn more about interactive tables.';\n",
              "        element.innerHTML = '';\n",
              "        dataTable['output_type'] = 'display_data';\n",
              "        await google.colab.output.renderOutput(dataTable, element);\n",
              "        const docLink = document.createElement('div');\n",
              "        docLink.innerHTML = docLinkHtml;\n",
              "        element.appendChild(docLink);\n",
              "      }\n",
              "    </script>\n",
              "  </div>\n",
              "\n",
              "\n",
              "    <div id=\"df-c4f38d5b-695c-49f0-bdb1-1023810c7d37\">\n",
              "      <button class=\"colab-df-quickchart\" onclick=\"quickchart('df-c4f38d5b-695c-49f0-bdb1-1023810c7d37')\"\n",
              "                title=\"Suggest charts\"\n",
              "                style=\"display:none;\">\n",
              "\n",
              "<svg xmlns=\"http://www.w3.org/2000/svg\" height=\"24px\"viewBox=\"0 0 24 24\"\n",
              "     width=\"24px\">\n",
              "    <g>\n",
              "        <path d=\"M19 3H5c-1.1 0-2 .9-2 2v14c0 1.1.9 2 2 2h14c1.1 0 2-.9 2-2V5c0-1.1-.9-2-2-2zM9 17H7v-7h2v7zm4 0h-2V7h2v10zm4 0h-2v-4h2v4z\"/>\n",
              "    </g>\n",
              "</svg>\n",
              "      </button>\n",
              "\n",
              "<style>\n",
              "  .colab-df-quickchart {\n",
              "      --bg-color: #E8F0FE;\n",
              "      --fill-color: #1967D2;\n",
              "      --hover-bg-color: #E2EBFA;\n",
              "      --hover-fill-color: #174EA6;\n",
              "      --disabled-fill-color: #AAA;\n",
              "      --disabled-bg-color: #DDD;\n",
              "  }\n",
              "\n",
              "  [theme=dark] .colab-df-quickchart {\n",
              "      --bg-color: #3B4455;\n",
              "      --fill-color: #D2E3FC;\n",
              "      --hover-bg-color: #434B5C;\n",
              "      --hover-fill-color: #FFFFFF;\n",
              "      --disabled-bg-color: #3B4455;\n",
              "      --disabled-fill-color: #666;\n",
              "  }\n",
              "\n",
              "  .colab-df-quickchart {\n",
              "    background-color: var(--bg-color);\n",
              "    border: none;\n",
              "    border-radius: 50%;\n",
              "    cursor: pointer;\n",
              "    display: none;\n",
              "    fill: var(--fill-color);\n",
              "    height: 32px;\n",
              "    padding: 0;\n",
              "    width: 32px;\n",
              "  }\n",
              "\n",
              "  .colab-df-quickchart:hover {\n",
              "    background-color: var(--hover-bg-color);\n",
              "    box-shadow: 0 1px 2px rgba(60, 64, 67, 0.3), 0 1px 3px 1px rgba(60, 64, 67, 0.15);\n",
              "    fill: var(--button-hover-fill-color);\n",
              "  }\n",
              "\n",
              "  .colab-df-quickchart-complete:disabled,\n",
              "  .colab-df-quickchart-complete:disabled:hover {\n",
              "    background-color: var(--disabled-bg-color);\n",
              "    fill: var(--disabled-fill-color);\n",
              "    box-shadow: none;\n",
              "  }\n",
              "\n",
              "  .colab-df-spinner {\n",
              "    border: 2px solid var(--fill-color);\n",
              "    border-color: transparent;\n",
              "    border-bottom-color: var(--fill-color);\n",
              "    animation:\n",
              "      spin 1s steps(1) infinite;\n",
              "  }\n",
              "\n",
              "  @keyframes spin {\n",
              "    0% {\n",
              "      border-color: transparent;\n",
              "      border-bottom-color: var(--fill-color);\n",
              "      border-left-color: var(--fill-color);\n",
              "    }\n",
              "    20% {\n",
              "      border-color: transparent;\n",
              "      border-left-color: var(--fill-color);\n",
              "      border-top-color: var(--fill-color);\n",
              "    }\n",
              "    30% {\n",
              "      border-color: transparent;\n",
              "      border-left-color: var(--fill-color);\n",
              "      border-top-color: var(--fill-color);\n",
              "      border-right-color: var(--fill-color);\n",
              "    }\n",
              "    40% {\n",
              "      border-color: transparent;\n",
              "      border-right-color: var(--fill-color);\n",
              "      border-top-color: var(--fill-color);\n",
              "    }\n",
              "    60% {\n",
              "      border-color: transparent;\n",
              "      border-right-color: var(--fill-color);\n",
              "    }\n",
              "    80% {\n",
              "      border-color: transparent;\n",
              "      border-right-color: var(--fill-color);\n",
              "      border-bottom-color: var(--fill-color);\n",
              "    }\n",
              "    90% {\n",
              "      border-color: transparent;\n",
              "      border-bottom-color: var(--fill-color);\n",
              "    }\n",
              "  }\n",
              "</style>\n",
              "\n",
              "      <script>\n",
              "        async function quickchart(key) {\n",
              "          const quickchartButtonEl =\n",
              "            document.querySelector('#' + key + ' button');\n",
              "          quickchartButtonEl.disabled = true;  // To prevent multiple clicks.\n",
              "          quickchartButtonEl.classList.add('colab-df-spinner');\n",
              "          try {\n",
              "            const charts = await google.colab.kernel.invokeFunction(\n",
              "                'suggestCharts', [key], {});\n",
              "          } catch (error) {\n",
              "            console.error('Error during call to suggestCharts:', error);\n",
              "          }\n",
              "          quickchartButtonEl.classList.remove('colab-df-spinner');\n",
              "          quickchartButtonEl.classList.add('colab-df-quickchart-complete');\n",
              "        }\n",
              "        (() => {\n",
              "          let quickchartButtonEl =\n",
              "            document.querySelector('#df-c4f38d5b-695c-49f0-bdb1-1023810c7d37 button');\n",
              "          quickchartButtonEl.style.display =\n",
              "            google.colab.kernel.accessAllowed ? 'block' : 'none';\n",
              "        })();\n",
              "      </script>\n",
              "    </div>\n",
              "\n",
              "    </div>\n",
              "  </div>\n"
            ],
            "application/vnd.google.colaboratory.intrinsic+json": {
              "type": "dataframe",
              "variable_name": "data",
              "summary": "{\n  \"name\": \"data\",\n  \"rows\": 2419,\n  \"fields\": [\n    {\n      \"column\": \"Price\",\n      \"properties\": {\n        \"dtype\": \"number\",\n        \"std\": 39613,\n        \"min\": 1800,\n        \"max\": 662000,\n        \"num_unique_values\": 484,\n        \"samples\": [\n          31200,\n          43600,\n          32600\n        ],\n        \"semantic_type\": \"\",\n        \"description\": \"\"\n      }\n    },\n    {\n      \"column\": \"Square Area\",\n      \"properties\": {\n        \"dtype\": \"number\",\n        \"std\": 84.00185100688186,\n        \"min\": 10.0,\n        \"max\": 1600.0,\n        \"num_unique_values\": 1060,\n        \"samples\": [\n          28.24999568,\n          38.35348564,\n          22.4\n        ],\n        \"semantic_type\": \"\",\n        \"description\": \"\"\n      }\n    },\n    {\n      \"column\": \"Bedrooms\",\n      \"properties\": {\n        \"dtype\": \"number\",\n        \"std\": 1,\n        \"min\": 0,\n        \"max\": 9,\n        \"num_unique_values\": 10,\n        \"samples\": [\n          8,\n          1,\n          4\n        ],\n        \"semantic_type\": \"\",\n        \"description\": \"\"\n      }\n    },\n    {\n      \"column\": \"Bathrooms\",\n      \"properties\": {\n        \"dtype\": \"number\",\n        \"std\": 0,\n        \"min\": 0,\n        \"max\": 8,\n        \"num_unique_values\": 9,\n        \"samples\": [\n          8,\n          3,\n          5\n        ],\n        \"semantic_type\": \"\",\n        \"description\": \"\"\n      }\n    },\n    {\n      \"column\": \"24/7 Security\",\n      \"properties\": {\n        \"dtype\": \"number\",\n        \"std\": 0,\n        \"min\": 0,\n        \"max\": 1,\n        \"num_unique_values\": 2,\n        \"samples\": [\n          0,\n          1\n        ],\n        \"semantic_type\": \"\",\n        \"description\": \"\"\n      }\n    },\n    {\n      \"column\": \"Balcony\",\n      \"properties\": {\n        \"dtype\": \"number\",\n        \"std\": 0,\n        \"min\": 0,\n        \"max\": 1,\n        \"num_unique_values\": 2,\n        \"samples\": [\n          1,\n          0\n        ],\n        \"semantic_type\": \"\",\n        \"description\": \"\"\n      }\n    },\n    {\n      \"column\": \"Parking\",\n      \"properties\": {\n        \"dtype\": \"number\",\n        \"std\": 0,\n        \"min\": 0,\n        \"max\": 1,\n        \"num_unique_values\": 2,\n        \"samples\": [\n          1,\n          0\n        ],\n        \"semantic_type\": \"\",\n        \"description\": \"\"\n      }\n    },\n    {\n      \"column\": \"Pets Allowed\",\n      \"properties\": {\n        \"dtype\": \"number\",\n        \"std\": 0,\n        \"min\": 0,\n        \"max\": 1,\n        \"num_unique_values\": 2,\n        \"samples\": [\n          1,\n          0\n        ],\n        \"semantic_type\": \"\",\n        \"description\": \"\"\n      }\n    },\n    {\n      \"column\": \"Storage Space\",\n      \"properties\": {\n        \"dtype\": \"number\",\n        \"std\": 0,\n        \"min\": 0,\n        \"max\": 1,\n        \"num_unique_values\": 2,\n        \"samples\": [\n          1,\n          0\n        ],\n        \"semantic_type\": \"\",\n        \"description\": \"\"\n      }\n    },\n    {\n      \"column\": \"Swimming pool\",\n      \"properties\": {\n        \"dtype\": \"number\",\n        \"std\": 0,\n        \"min\": 0,\n        \"max\": 1,\n        \"num_unique_values\": 2,\n        \"samples\": [\n          0,\n          1\n        ],\n        \"semantic_type\": \"\",\n        \"description\": \"\"\n      }\n    },\n    {\n      \"column\": \"price_per_sqm\",\n      \"properties\": {\n        \"dtype\": \"number\",\n        \"std\": 189.30727411529327,\n        \"min\": 26.0,\n        \"max\": 2000.0,\n        \"num_unique_values\": 1475,\n        \"samples\": [\n          688.0081913379614,\n          561.7977528089888\n        ],\n        \"semantic_type\": \"\",\n        \"description\": \"\"\n      }\n    },\n    {\n      \"column\": \"price_per_sqm_x_bedrooms\",\n      \"properties\": {\n        \"dtype\": \"number\",\n        \"std\": 725.4651513777167,\n        \"min\": 0.0,\n        \"max\": 8000.0,\n        \"num_unique_values\": 1147,\n        \"samples\": [\n          613.6363636363636,\n          3641.20993660949\n        ],\n        \"semantic_type\": \"\",\n        \"description\": \"\"\n      }\n    },\n    {\n      \"column\": \"price_per_sqm_x_bathrooms\",\n      \"properties\": {\n        \"dtype\": \"number\",\n        \"std\": 530.1574490876761,\n        \"min\": 0.0,\n        \"max\": 8000.0,\n        \"num_unique_values\": 1520,\n        \"samples\": [\n          810.0810081008101,\n          831.1640079854429\n        ],\n        \"semantic_type\": \"\",\n        \"description\": \"\"\n      }\n    }\n  ]\n}"
            }
          },
          "metadata": {},
          "execution_count": 41
        }
      ],
      "source": [
        "# Load the CSV file\n",
        "data = pd.read_csv('Data_Reduced.csv')\n",
        "data.head()"
      ]
    },
    {
      "cell_type": "markdown",
      "id": "bbe6cd61",
      "metadata": {
        "id": "bbe6cd61"
      },
      "source": [
        "## 3. Preprocess Data (Handle Missing Values)\n",
        "Check for missing values and encode categorical variables as needed."
      ]
    },
    {
      "cell_type": "code",
      "execution_count": 42,
      "id": "de9a3d04",
      "metadata": {
        "colab": {
          "base_uri": "https://localhost:8080/",
          "height": 838
        },
        "id": "de9a3d04",
        "outputId": "9c4638b8-772e-4879-e8f3-1f206bf53f7a"
      },
      "outputs": [
        {
          "output_type": "stream",
          "name": "stdout",
          "text": [
            "<class 'pandas.core.frame.DataFrame'>\n",
            "RangeIndex: 2419 entries, 0 to 2418\n",
            "Data columns (total 13 columns):\n",
            " #   Column                     Non-Null Count  Dtype  \n",
            "---  ------                     --------------  -----  \n",
            " 0   Price                      2419 non-null   int64  \n",
            " 1   Square Area                2419 non-null   float64\n",
            " 2   Bedrooms                   2419 non-null   int64  \n",
            " 3   Bathrooms                  2419 non-null   int64  \n",
            " 4   24/7 Security              2419 non-null   int64  \n",
            " 5   Balcony                    2419 non-null   int64  \n",
            " 6   Parking                    2419 non-null   int64  \n",
            " 7   Pets Allowed               2419 non-null   int64  \n",
            " 8   Storage Space              2419 non-null   int64  \n",
            " 9   Swimming pool              2419 non-null   int64  \n",
            " 10  price_per_sqm              2419 non-null   float64\n",
            " 11  price_per_sqm_x_bedrooms   2419 non-null   float64\n",
            " 12  price_per_sqm_x_bathrooms  2419 non-null   float64\n",
            "dtypes: float64(4), int64(9)\n",
            "memory usage: 245.8 KB\n"
          ]
        },
        {
          "output_type": "execute_result",
          "data": {
            "text/plain": [
              "Price                        0\n",
              "Square Area                  0\n",
              "Bedrooms                     0\n",
              "Bathrooms                    0\n",
              "24/7 Security                0\n",
              "Balcony                      0\n",
              "Parking                      0\n",
              "Pets Allowed                 0\n",
              "Storage Space                0\n",
              "Swimming pool                0\n",
              "price_per_sqm                0\n",
              "price_per_sqm_x_bedrooms     0\n",
              "price_per_sqm_x_bathrooms    0\n",
              "dtype: int64"
            ],
            "text/html": [
              "<div>\n",
              "<style scoped>\n",
              "    .dataframe tbody tr th:only-of-type {\n",
              "        vertical-align: middle;\n",
              "    }\n",
              "\n",
              "    .dataframe tbody tr th {\n",
              "        vertical-align: top;\n",
              "    }\n",
              "\n",
              "    .dataframe thead th {\n",
              "        text-align: right;\n",
              "    }\n",
              "</style>\n",
              "<table border=\"1\" class=\"dataframe\">\n",
              "  <thead>\n",
              "    <tr style=\"text-align: right;\">\n",
              "      <th></th>\n",
              "      <th>0</th>\n",
              "    </tr>\n",
              "  </thead>\n",
              "  <tbody>\n",
              "    <tr>\n",
              "      <th>Price</th>\n",
              "      <td>0</td>\n",
              "    </tr>\n",
              "    <tr>\n",
              "      <th>Square Area</th>\n",
              "      <td>0</td>\n",
              "    </tr>\n",
              "    <tr>\n",
              "      <th>Bedrooms</th>\n",
              "      <td>0</td>\n",
              "    </tr>\n",
              "    <tr>\n",
              "      <th>Bathrooms</th>\n",
              "      <td>0</td>\n",
              "    </tr>\n",
              "    <tr>\n",
              "      <th>24/7 Security</th>\n",
              "      <td>0</td>\n",
              "    </tr>\n",
              "    <tr>\n",
              "      <th>Balcony</th>\n",
              "      <td>0</td>\n",
              "    </tr>\n",
              "    <tr>\n",
              "      <th>Parking</th>\n",
              "      <td>0</td>\n",
              "    </tr>\n",
              "    <tr>\n",
              "      <th>Pets Allowed</th>\n",
              "      <td>0</td>\n",
              "    </tr>\n",
              "    <tr>\n",
              "      <th>Storage Space</th>\n",
              "      <td>0</td>\n",
              "    </tr>\n",
              "    <tr>\n",
              "      <th>Swimming pool</th>\n",
              "      <td>0</td>\n",
              "    </tr>\n",
              "    <tr>\n",
              "      <th>price_per_sqm</th>\n",
              "      <td>0</td>\n",
              "    </tr>\n",
              "    <tr>\n",
              "      <th>price_per_sqm_x_bedrooms</th>\n",
              "      <td>0</td>\n",
              "    </tr>\n",
              "    <tr>\n",
              "      <th>price_per_sqm_x_bathrooms</th>\n",
              "      <td>0</td>\n",
              "    </tr>\n",
              "  </tbody>\n",
              "</table>\n",
              "</div><br><label><b>dtype:</b> int64</label>"
            ]
          },
          "metadata": {},
          "execution_count": 42
        }
      ],
      "source": [
        "# Check for missing values\n",
        "data.info()\n",
        "data.isnull().sum()"
      ]
    },
    {
      "cell_type": "markdown",
      "id": "bedd577b",
      "metadata": {
        "id": "bedd577b"
      },
      "source": [
        "## 4. Select Features and Target Variable\n",
        "Identify and select relevant features for predicting Condo Price. Set Condo Price as the target variable."
      ]
    },
    {
      "cell_type": "code",
      "execution_count": 43,
      "id": "17c326ce",
      "metadata": {
        "colab": {
          "base_uri": "https://localhost:8080/"
        },
        "id": "17c326ce",
        "outputId": "4a01729e-b535-4dd8-d8f1-85a33a0fac61"
      },
      "outputs": [
        {
          "output_type": "execute_result",
          "data": {
            "text/plain": [
              "(   Square Area  Bedrooms  Bathrooms  24/7 Security  Balcony  Parking  \\\n",
              " 0         25.0         0          1              1        0        0   \n",
              " 1         61.0         1          1              0        0        0   \n",
              " 2         25.0         1          1              1        0        0   \n",
              " 3         28.0         0          1              1        0        0   \n",
              " 4         30.0         2          1              1        0        0   \n",
              " \n",
              "    Pets Allowed  Storage Space  Swimming pool  price_per_sqm  \\\n",
              " 0             0              0              1     480.000000   \n",
              " 1             0              0              0     950.819672   \n",
              " 2             0              0              1     560.000000   \n",
              " 3             0              0              1     785.714286   \n",
              " 4             0              0              1     600.000000   \n",
              " \n",
              "    price_per_sqm_x_bedrooms  price_per_sqm_x_bathrooms  \n",
              " 0                  0.000000                 480.000000  \n",
              " 1                950.819672                 950.819672  \n",
              " 2                560.000000                 560.000000  \n",
              " 3                  0.000000                 785.714286  \n",
              " 4               1200.000000                 600.000000  ,\n",
              " 0    12000\n",
              " 1    58000\n",
              " 2    14000\n",
              " 3    22000\n",
              " 4    18000\n",
              " Name: Price, dtype: int64)"
            ]
          },
          "metadata": {},
          "execution_count": 43
        }
      ],
      "source": [
        "# Set target and features\n",
        "target = 'Price'\n",
        "X = data.drop(target, axis=1)\n",
        "y = data[target]\n",
        "\n",
        "X.head(), y.head()"
      ]
    },
    {
      "cell_type": "markdown",
      "id": "eea9ef1c",
      "metadata": {
        "id": "eea9ef1c"
      },
      "source": [
        "## 5. Split Data into Training and Test Sets\n",
        "Use train_test_split from scikit-learn to split the data into training and test sets."
      ]
    },
    {
      "cell_type": "code",
      "execution_count": 44,
      "id": "56b251e0",
      "metadata": {
        "colab": {
          "base_uri": "https://localhost:8080/"
        },
        "id": "56b251e0",
        "outputId": "4cd54125-c7ed-496b-a2ef-bdde244bdaa0"
      },
      "outputs": [
        {
          "output_type": "stream",
          "name": "stdout",
          "text": [
            "Training set: (1935, 12) (1935,)\n",
            "Test set: (484, 12) (484,)\n"
          ]
        }
      ],
      "source": [
        "# Split data into training and test sets\n",
        "X = data.drop(target, axis=1)\n",
        "y = data[target]\n",
        "X_train, X_test, y_train, y_test = train_test_split(X, y, test_size=0.2, random_state=42)\n",
        "print('Training set:', X_train.shape, y_train.shape)\n",
        "print('Test set:', X_test.shape, y_test.shape)"
      ]
    },
    {
      "cell_type": "markdown",
      "id": "cae4d445",
      "metadata": {
        "id": "cae4d445"
      },
      "source": [
        "## 6. Train Multiple Linear Regression Model\n",
        "Fit a Multiple Linear Regression model using the training data."
      ]
    },
    {
      "cell_type": "code",
      "execution_count": 45,
      "id": "5360d993",
      "metadata": {
        "id": "5360d993"
      },
      "outputs": [],
      "source": [
        "# Train Multiple Linear Regression model\n",
        "model = LinearRegression()\n",
        "model.fit(X_train, y_train)\n",
        "\n",
        "# Predict on test set\n",
        "y_pred = model.predict(X_test)"
      ]
    },
    {
      "cell_type": "markdown",
      "id": "203f42d6",
      "metadata": {
        "id": "203f42d6"
      },
      "source": [
        "## 7. Evaluate Model Performance\n"
      ]
    },
    {
      "cell_type": "code",
      "execution_count": 46,
      "id": "d8a92821",
      "metadata": {
        "colab": {
          "base_uri": "https://localhost:8080/"
        },
        "id": "d8a92821",
        "outputId": "a93de719-e5b5-4d8f-ec7c-10345562ff72"
      },
      "outputs": [
        {
          "output_type": "stream",
          "name": "stdout",
          "text": [
            "R² Score: 90.99%\n",
            "Mean Absolute Error (MAE): 6456.58\n",
            "Mean Squared Error (MSE): 227718600.75\n",
            "Goal achieved!\n"
          ]
        }
      ],
      "source": [
        "# Evaluate model performance\n",
        "r2 = r2_score(y_test, y_pred)\n",
        "mae = mean_absolute_error(y_test, y_pred)\n",
        "mse = mean_squared_error(y_test, y_pred)\n",
        "\n",
        "print(f'R² Score: {r2:.2%}')\n",
        "print(f'Mean Absolute Error (MAE): {mae:.2f}')\n",
        "print(f'Mean Squared Error (MSE): {mse:.2f}')\n",
        "\n",
        "if r2 >= 0.90:\n",
        "    print('Goal achieved!')\n",
        "else:\n",
        "    print('Goal not achieved.')"
      ]
    },
    {
      "cell_type": "markdown",
      "id": "f031777f",
      "metadata": {
        "id": "f031777f"
      },
      "source": [
        "## 8. Visualize Predictions vs Actual Condo Prices\n",
        "Plot predicted vs actual Condo Prices to visually assess model performance."
      ]
    },
    {
      "cell_type": "code",
      "execution_count": 47,
      "id": "afd5d43d",
      "metadata": {
        "colab": {
          "base_uri": "https://localhost:8080/",
          "height": 564
        },
        "id": "afd5d43d",
        "outputId": "bbfb956f-2c1e-451c-ac58-33db2eb8b2e7"
      },
      "outputs": [
        {
          "output_type": "display_data",
          "data": {
            "text/plain": [
              "<Figure size 800x600 with 1 Axes>"
            ],
            "image/png": "[encoded data removed]"
          },
          "metadata": {}
        }
      ],
      "source": [
        "# Visualize predictions vs actual values\n",
        "plt.figure(figsize=(8,6))\n",
        "plt.scatter(y_test, y_pred, alpha=0.7)\n",
        "plt.xlabel('Actual Condo Price')\n",
        "plt.ylabel('Predicted Condo Price')\n",
        "plt.title('Predicted vs Actual Condo Price')\n",
        "plt.plot([y_test.min(), y_test.max()], [y_test.min(), y_test.max()], 'r--')\n",
        "plt.show()"
      ]
    },
    {
      "cell_type": "code",
      "execution_count": 48,
      "id": "94133e80",
      "metadata": {
        "colab": {
          "base_uri": "https://localhost:8080/",
          "height": 564
        },
        "id": "94133e80",
        "outputId": "96c0c1cc-9c09-478f-8af6-beca3b05ac94"
      },
      "outputs": [
        {
          "output_type": "display_data",
          "data": {
            "text/plain": [
              "<Figure size 800x600 with 1 Axes>"
            ],
            "image/png": "[encoded data removed]"
          },
          "metadata": {}
        }
      ],
      "source": [
        "# Residuals plot (Residuals vs Predicted values)\n",
        "residuals = y_test - y_pred\n",
        "plt.figure(figsize=(8,6))\n",
        "sns.scatterplot(x=y_pred, y=residuals)\n",
        "plt.axhline(0, color='r', linestyle='--')\n",
        "plt.xlabel('Predicted Values')\n",
        "plt.ylabel('Residuals')\n",
        "plt.title('Residuals vs Predicted Values')\n",
        "plt.show()"
      ]
    },
    {
      "cell_type": "code",
      "execution_count": 49,
      "id": "ed56a147",
      "metadata": {
        "colab": {
          "base_uri": "https://localhost:8080/",
          "height": 564
        },
        "id": "ed56a147",
        "outputId": "43577cc7-b053-4189-9a22-abac1f35311c"
      },
      "outputs": [
        {
          "output_type": "display_data",
          "data": {
            "text/plain": [
              "<Figure size 800x600 with 1 Axes>"
            ],
            "image/png": "[encoded data removed]"
          },
          "metadata": {}
        }
      ],
      "source": [
        "# Histogram of residuals\n",
        "plt.figure(figsize=(8,6))\n",
        "sns.histplot(residuals, bins=30, kde=True)\n",
        "plt.xlabel('Residuals')\n",
        "plt.title('Distribution of Residuals')\n",
        "plt.show()"
      ]
    }
  ],
  "metadata": {
    "kernelspec": {
      "display_name": "scraper-env",
      "language": "python",
      "name": "python3"
    },
    "language_info": {
      "codemirror_mode": {
        "name": "ipython",
        "version": 3
      },
      "file_extension": ".py",
      "mimetype": "text/x-python",
      "name": "python",
      "nbconvert_exporter": "python",
      "pygments_lexer": "ipython3",
      "version": "3.13.5"
    },
    "colab": {
      "provenance": []
    }
  },
  "nbformat": 4,
  "nbformat_minor": 5
}